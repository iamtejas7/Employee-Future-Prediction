{
 "cells": [
  {
   "cell_type": "markdown",
   "id": "d784affe",
   "metadata": {},
   "source": [
    "# Employee Future Prediction"
   ]
  },
  {
   "cell_type": "markdown",
   "id": "a6e1fadb",
   "metadata": {},
   "source": [
    "### Importing required packages"
   ]
  },
  {
   "cell_type": "code",
   "execution_count": 1,
   "id": "209f2d9b",
   "metadata": {},
   "outputs": [
    {
     "name": "stderr",
     "output_type": "stream",
     "text": [
      "c:\\users\\tushar\\appdata\\local\\programs\\python\\python38\\lib\\site-packages\\xgboost\\compat.py:36: FutureWarning: pandas.Int64Index is deprecated and will be removed from pandas in a future version. Use pandas.Index with the appropriate dtype instead.\n",
      "  from pandas import MultiIndex, Int64Index\n"
     ]
    }
   ],
   "source": [
    "import pandas as pd\n",
    "import numpy as np\n",
    "from imblearn.over_sampling import SMOTE\n",
    "from sklearn.preprocessing import MinMaxScaler\n",
    "from sklearn.model_selection import train_test_split\n",
    "from sklearn.neighbors import KNeighborsClassifier\n",
    "from sklearn.tree import DecisionTreeClassifier\n",
    "from sklearn.ensemble import RandomForestClassifier, GradientBoostingClassifier\n",
    "from xgboost import XGBClassifier\n",
    "from sklearn.model_selection import train_test_split,RandomizedSearchCV\n",
    "from sklearn.metrics import accuracy_score, classification_report, ConfusionMatrixDisplay, confusion_matrix\n",
    "import matplotlib.pyplot as plt\n",
    "import seaborn as sns\n",
    "import pickle\n",
    "import warnings\n",
    "warnings.filterwarnings('ignore')"
   ]
  },
  {
   "cell_type": "markdown",
   "id": "dbf02c87",
   "metadata": {},
   "source": [
    "### Reading Dataset"
   ]
  },
  {
   "cell_type": "code",
   "execution_count": 2,
   "id": "11b303f0",
   "metadata": {},
   "outputs": [
    {
     "data": {
      "text/html": [
       "<div>\n",
       "<style scoped>\n",
       "    .dataframe tbody tr th:only-of-type {\n",
       "        vertical-align: middle;\n",
       "    }\n",
       "\n",
       "    .dataframe tbody tr th {\n",
       "        vertical-align: top;\n",
       "    }\n",
       "\n",
       "    .dataframe thead th {\n",
       "        text-align: right;\n",
       "    }\n",
       "</style>\n",
       "<table border=\"1\" class=\"dataframe\">\n",
       "  <thead>\n",
       "    <tr style=\"text-align: right;\">\n",
       "      <th></th>\n",
       "      <th>Education</th>\n",
       "      <th>JoiningYear</th>\n",
       "      <th>City</th>\n",
       "      <th>PaymentTier</th>\n",
       "      <th>Age</th>\n",
       "      <th>Gender</th>\n",
       "      <th>EverBenched</th>\n",
       "      <th>ExperienceInCurrentDomain</th>\n",
       "      <th>LeaveOrNot</th>\n",
       "    </tr>\n",
       "  </thead>\n",
       "  <tbody>\n",
       "    <tr>\n",
       "      <th>0</th>\n",
       "      <td>Bachelors</td>\n",
       "      <td>2017</td>\n",
       "      <td>Bangalore</td>\n",
       "      <td>3</td>\n",
       "      <td>34</td>\n",
       "      <td>Male</td>\n",
       "      <td>No</td>\n",
       "      <td>0</td>\n",
       "      <td>0</td>\n",
       "    </tr>\n",
       "    <tr>\n",
       "      <th>1</th>\n",
       "      <td>Bachelors</td>\n",
       "      <td>2013</td>\n",
       "      <td>Pune</td>\n",
       "      <td>1</td>\n",
       "      <td>28</td>\n",
       "      <td>Female</td>\n",
       "      <td>No</td>\n",
       "      <td>3</td>\n",
       "      <td>1</td>\n",
       "    </tr>\n",
       "    <tr>\n",
       "      <th>2</th>\n",
       "      <td>Bachelors</td>\n",
       "      <td>2014</td>\n",
       "      <td>New Delhi</td>\n",
       "      <td>3</td>\n",
       "      <td>38</td>\n",
       "      <td>Female</td>\n",
       "      <td>No</td>\n",
       "      <td>2</td>\n",
       "      <td>0</td>\n",
       "    </tr>\n",
       "    <tr>\n",
       "      <th>3</th>\n",
       "      <td>Masters</td>\n",
       "      <td>2016</td>\n",
       "      <td>Bangalore</td>\n",
       "      <td>3</td>\n",
       "      <td>27</td>\n",
       "      <td>Male</td>\n",
       "      <td>No</td>\n",
       "      <td>5</td>\n",
       "      <td>1</td>\n",
       "    </tr>\n",
       "    <tr>\n",
       "      <th>4</th>\n",
       "      <td>Masters</td>\n",
       "      <td>2017</td>\n",
       "      <td>Pune</td>\n",
       "      <td>3</td>\n",
       "      <td>24</td>\n",
       "      <td>Male</td>\n",
       "      <td>Yes</td>\n",
       "      <td>2</td>\n",
       "      <td>1</td>\n",
       "    </tr>\n",
       "  </tbody>\n",
       "</table>\n",
       "</div>"
      ],
      "text/plain": [
       "   Education  JoiningYear       City  PaymentTier  Age  Gender EverBenched  \\\n",
       "0  Bachelors         2017  Bangalore            3   34    Male          No   \n",
       "1  Bachelors         2013       Pune            1   28  Female          No   \n",
       "2  Bachelors         2014  New Delhi            3   38  Female          No   \n",
       "3    Masters         2016  Bangalore            3   27    Male          No   \n",
       "4    Masters         2017       Pune            3   24    Male         Yes   \n",
       "\n",
       "   ExperienceInCurrentDomain  LeaveOrNot  \n",
       "0                          0           0  \n",
       "1                          3           1  \n",
       "2                          2           0  \n",
       "3                          5           1  \n",
       "4                          2           1  "
      ]
     },
     "execution_count": 2,
     "metadata": {},
     "output_type": "execute_result"
    }
   ],
   "source": [
    "df = pd.read_csv('Employee.csv')\n",
    "df.head()"
   ]
  },
  {
   "cell_type": "code",
   "execution_count": null,
   "id": "3d6d42d2",
   "metadata": {},
   "outputs": [],
   "source": []
  },
  {
   "cell_type": "markdown",
   "id": "43aa2002",
   "metadata": {},
   "source": [
    "### Analysing & Preprocessing Data"
   ]
  },
  {
   "cell_type": "code",
   "execution_count": 3,
   "id": "16c2a5e5",
   "metadata": {},
   "outputs": [
    {
     "name": "stdout",
     "output_type": "stream",
     "text": [
      "<class 'pandas.core.frame.DataFrame'>\n",
      "RangeIndex: 4653 entries, 0 to 4652\n",
      "Data columns (total 9 columns):\n",
      " #   Column                     Non-Null Count  Dtype \n",
      "---  ------                     --------------  ----- \n",
      " 0   Education                  4653 non-null   object\n",
      " 1   JoiningYear                4653 non-null   int64 \n",
      " 2   City                       4653 non-null   object\n",
      " 3   PaymentTier                4653 non-null   int64 \n",
      " 4   Age                        4653 non-null   int64 \n",
      " 5   Gender                     4653 non-null   object\n",
      " 6   EverBenched                4653 non-null   object\n",
      " 7   ExperienceInCurrentDomain  4653 non-null   int64 \n",
      " 8   LeaveOrNot                 4653 non-null   int64 \n",
      "dtypes: int64(5), object(4)\n",
      "memory usage: 327.3+ KB\n"
     ]
    }
   ],
   "source": [
    "df.info()"
   ]
  },
  {
   "cell_type": "code",
   "execution_count": null,
   "id": "43ed6fdf",
   "metadata": {},
   "outputs": [],
   "source": []
  },
  {
   "cell_type": "code",
   "execution_count": 4,
   "id": "07ab9e9e",
   "metadata": {},
   "outputs": [],
   "source": [
    "def get_dist_with_leaveornot(data):\n",
    "    dist = pd.crosstab(data, df['LeaveOrNot'])\n",
    "    dist['percent_leaving'] = (dist[1] / (dist[0] + dist[1])) * 100\n",
    "    \n",
    "    return dist"
   ]
  },
  {
   "cell_type": "code",
   "execution_count": null,
   "id": "716f15bf",
   "metadata": {},
   "outputs": [],
   "source": []
  },
  {
   "cell_type": "markdown",
   "id": "c0159884",
   "metadata": {},
   "source": [
    "### Education"
   ]
  },
  {
   "cell_type": "code",
   "execution_count": 5,
   "id": "4fd6bb38",
   "metadata": {},
   "outputs": [
    {
     "data": {
      "text/plain": [
       "<AxesSubplot:xlabel='Education', ylabel='count'>"
      ]
     },
     "execution_count": 5,
     "metadata": {},
     "output_type": "execute_result"
    },
    {
     "data": {
      "image/png": "[encoded data removed]",
      "text/plain": [
       "<Figure size 432x288 with 1 Axes>"
      ]
     },
     "metadata": {
      "needs_background": "light"
     },
     "output_type": "display_data"
    }
   ],
   "source": [
    "sns.countplot(df['Education'])"
   ]
  },
  {
   "cell_type": "code",
   "execution_count": 6,
   "id": "e8443b6f",
   "metadata": {},
   "outputs": [
    {
     "data": {
      "text/html": [
       "<div>\n",
       "<style scoped>\n",
       "    .dataframe tbody tr th:only-of-type {\n",
       "        vertical-align: middle;\n",
       "    }\n",
       "\n",
       "    .dataframe tbody tr th {\n",
       "        vertical-align: top;\n",
       "    }\n",
       "\n",
       "    .dataframe thead th {\n",
       "        text-align: right;\n",
       "    }\n",
       "</style>\n",
       "<table border=\"1\" class=\"dataframe\">\n",
       "  <thead>\n",
       "    <tr style=\"text-align: right;\">\n",
       "      <th>LeaveOrNot</th>\n",
       "      <th>0</th>\n",
       "      <th>1</th>\n",
       "      <th>percent_leaving</th>\n",
       "    </tr>\n",
       "    <tr>\n",
       "      <th>Education</th>\n",
       "      <th></th>\n",
       "      <th></th>\n",
       "      <th></th>\n",
       "    </tr>\n",
       "  </thead>\n",
       "  <tbody>\n",
       "    <tr>\n",
       "      <th>Bachelors</th>\n",
       "      <td>2472</td>\n",
       "      <td>1129</td>\n",
       "      <td>31.352402</td>\n",
       "    </tr>\n",
       "    <tr>\n",
       "      <th>Masters</th>\n",
       "      <td>447</td>\n",
       "      <td>426</td>\n",
       "      <td>48.797251</td>\n",
       "    </tr>\n",
       "    <tr>\n",
       "      <th>PHD</th>\n",
       "      <td>134</td>\n",
       "      <td>45</td>\n",
       "      <td>25.139665</td>\n",
       "    </tr>\n",
       "  </tbody>\n",
       "</table>\n",
       "</div>"
      ],
      "text/plain": [
       "LeaveOrNot     0     1  percent_leaving\n",
       "Education                              \n",
       "Bachelors   2472  1129        31.352402\n",
       "Masters      447   426        48.797251\n",
       "PHD          134    45        25.139665"
      ]
     },
     "execution_count": 6,
     "metadata": {},
     "output_type": "execute_result"
    }
   ],
   "source": [
    "get_dist_with_leaveornot(df['Education'])"
   ]
  },
  {
   "cell_type": "raw",
   "id": "652ffd47",
   "metadata": {},
   "source": [
    "From the table we can see that, \n",
    "• around 31% of employees who have just Bachelors degree are leaving company.\n",
    "• around 48% of employees who have Masters degree are leaving company.\n",
    "• around 25% of employees who have PHD are leaving company."
   ]
  },
  {
   "cell_type": "code",
   "execution_count": 7,
   "id": "e3e94fb2",
   "metadata": {},
   "outputs": [
    {
     "data": {
      "text/plain": [
       "{'Bachelors': 3601, 'Masters': 873, 'PHD': 179}"
      ]
     },
     "execution_count": 7,
     "metadata": {},
     "output_type": "execute_result"
    }
   ],
   "source": [
    "df['Education'].value_counts().to_dict()"
   ]
  },
  {
   "cell_type": "code",
   "execution_count": 8,
   "id": "c84d939e",
   "metadata": {},
   "outputs": [],
   "source": [
    "df['Education'].replace({'Bachelors': 0, 'Masters': 1, 'PHD': 2}, inplace = True)"
   ]
  },
  {
   "cell_type": "code",
   "execution_count": null,
   "id": "d69f011c",
   "metadata": {},
   "outputs": [],
   "source": []
  },
  {
   "cell_type": "markdown",
   "id": "d9f4dda1",
   "metadata": {},
   "source": [
    "### Joining Year"
   ]
  },
  {
   "cell_type": "code",
   "execution_count": 9,
   "id": "15f55a03",
   "metadata": {},
   "outputs": [
    {
     "data": {
      "text/plain": [
       "<AxesSubplot:xlabel='JoiningYear', ylabel='count'>"
      ]
     },
     "execution_count": 9,
     "metadata": {},
     "output_type": "execute_result"
    },
    {
     "data": {
      "image/png": "[encoded data removed]",
      "text/plain": [
       "<Figure size 432x288 with 1 Axes>"
      ]
     },
     "metadata": {
      "needs_background": "light"
     },
     "output_type": "display_data"
    }
   ],
   "source": [
    "sns.countplot(df['JoiningYear'])"
   ]
  },
  {
   "cell_type": "code",
   "execution_count": 10,
   "id": "8440d874",
   "metadata": {},
   "outputs": [
    {
     "data": {
      "text/html": [
       "<div>\n",
       "<style scoped>\n",
       "    .dataframe tbody tr th:only-of-type {\n",
       "        vertical-align: middle;\n",
       "    }\n",
       "\n",
       "    .dataframe tbody tr th {\n",
       "        vertical-align: top;\n",
       "    }\n",
       "\n",
       "    .dataframe thead th {\n",
       "        text-align: right;\n",
       "    }\n",
       "</style>\n",
       "<table border=\"1\" class=\"dataframe\">\n",
       "  <thead>\n",
       "    <tr style=\"text-align: right;\">\n",
       "      <th>LeaveOrNot</th>\n",
       "      <th>0</th>\n",
       "      <th>1</th>\n",
       "      <th>percent_leaving</th>\n",
       "    </tr>\n",
       "    <tr>\n",
       "      <th>JoiningYear</th>\n",
       "      <th></th>\n",
       "      <th></th>\n",
       "      <th></th>\n",
       "    </tr>\n",
       "  </thead>\n",
       "  <tbody>\n",
       "    <tr>\n",
       "      <th>2012</th>\n",
       "      <td>395</td>\n",
       "      <td>109</td>\n",
       "      <td>21.626984</td>\n",
       "    </tr>\n",
       "    <tr>\n",
       "      <th>2013</th>\n",
       "      <td>445</td>\n",
       "      <td>224</td>\n",
       "      <td>33.482810</td>\n",
       "    </tr>\n",
       "    <tr>\n",
       "      <th>2014</th>\n",
       "      <td>526</td>\n",
       "      <td>173</td>\n",
       "      <td>24.749642</td>\n",
       "    </tr>\n",
       "    <tr>\n",
       "      <th>2015</th>\n",
       "      <td>463</td>\n",
       "      <td>318</td>\n",
       "      <td>40.717029</td>\n",
       "    </tr>\n",
       "    <tr>\n",
       "      <th>2016</th>\n",
       "      <td>408</td>\n",
       "      <td>117</td>\n",
       "      <td>22.285714</td>\n",
       "    </tr>\n",
       "    <tr>\n",
       "      <th>2017</th>\n",
       "      <td>811</td>\n",
       "      <td>297</td>\n",
       "      <td>26.805054</td>\n",
       "    </tr>\n",
       "    <tr>\n",
       "      <th>2018</th>\n",
       "      <td>5</td>\n",
       "      <td>362</td>\n",
       "      <td>98.637602</td>\n",
       "    </tr>\n",
       "  </tbody>\n",
       "</table>\n",
       "</div>"
      ],
      "text/plain": [
       "LeaveOrNot     0    1  percent_leaving\n",
       "JoiningYear                           \n",
       "2012         395  109        21.626984\n",
       "2013         445  224        33.482810\n",
       "2014         526  173        24.749642\n",
       "2015         463  318        40.717029\n",
       "2016         408  117        22.285714\n",
       "2017         811  297        26.805054\n",
       "2018           5  362        98.637602"
      ]
     },
     "execution_count": 10,
     "metadata": {},
     "output_type": "execute_result"
    }
   ],
   "source": [
    "get_dist_with_leaveornot(df['JoiningYear'])"
   ]
  },
  {
   "cell_type": "raw",
   "id": "37072d03",
   "metadata": {},
   "source": [
    "From the table we can observe that,\n",
    "• around 98% of employees who joined in 2018 are leaving the company."
   ]
  },
  {
   "cell_type": "code",
   "execution_count": null,
   "id": "7ca90f8e",
   "metadata": {},
   "outputs": [],
   "source": []
  },
  {
   "cell_type": "markdown",
   "id": "16d6801e",
   "metadata": {},
   "source": [
    "### City"
   ]
  },
  {
   "cell_type": "code",
   "execution_count": 11,
   "id": "d02d3be5",
   "metadata": {},
   "outputs": [
    {
     "data": {
      "text/plain": [
       "<AxesSubplot:xlabel='City', ylabel='count'>"
      ]
     },
     "execution_count": 11,
     "metadata": {},
     "output_type": "execute_result"
    },
    {
     "data": {
      "image/png": "[encoded data removed]",
      "text/plain": [
       "<Figure size 432x288 with 1 Axes>"
      ]
     },
     "metadata": {
      "needs_background": "light"
     },
     "output_type": "display_data"
    }
   ],
   "source": [
    "sns.countplot(df['City'])"
   ]
  },
  {
   "cell_type": "code",
   "execution_count": 12,
   "id": "d5f1a3b0",
   "metadata": {},
   "outputs": [
    {
     "data": {
      "text/html": [
       "<div>\n",
       "<style scoped>\n",
       "    .dataframe tbody tr th:only-of-type {\n",
       "        vertical-align: middle;\n",
       "    }\n",
       "\n",
       "    .dataframe tbody tr th {\n",
       "        vertical-align: top;\n",
       "    }\n",
       "\n",
       "    .dataframe thead th {\n",
       "        text-align: right;\n",
       "    }\n",
       "</style>\n",
       "<table border=\"1\" class=\"dataframe\">\n",
       "  <thead>\n",
       "    <tr style=\"text-align: right;\">\n",
       "      <th>LeaveOrNot</th>\n",
       "      <th>0</th>\n",
       "      <th>1</th>\n",
       "      <th>percent_leaving</th>\n",
       "    </tr>\n",
       "    <tr>\n",
       "      <th>City</th>\n",
       "      <th></th>\n",
       "      <th></th>\n",
       "      <th></th>\n",
       "    </tr>\n",
       "  </thead>\n",
       "  <tbody>\n",
       "    <tr>\n",
       "      <th>Bangalore</th>\n",
       "      <td>1633</td>\n",
       "      <td>595</td>\n",
       "      <td>26.705566</td>\n",
       "    </tr>\n",
       "    <tr>\n",
       "      <th>New Delhi</th>\n",
       "      <td>791</td>\n",
       "      <td>366</td>\n",
       "      <td>31.633535</td>\n",
       "    </tr>\n",
       "    <tr>\n",
       "      <th>Pune</th>\n",
       "      <td>629</td>\n",
       "      <td>639</td>\n",
       "      <td>50.394322</td>\n",
       "    </tr>\n",
       "  </tbody>\n",
       "</table>\n",
       "</div>"
      ],
      "text/plain": [
       "LeaveOrNot     0    1  percent_leaving\n",
       "City                                  \n",
       "Bangalore   1633  595        26.705566\n",
       "New Delhi    791  366        31.633535\n",
       "Pune         629  639        50.394322"
      ]
     },
     "execution_count": 12,
     "metadata": {},
     "output_type": "execute_result"
    }
   ],
   "source": [
    "get_dist_with_leaveornot(df['City'])"
   ]
  },
  {
   "cell_type": "raw",
   "id": "3cc902d3",
   "metadata": {},
   "source": [
    "From table we can observe that attrition rate of Pune's employees is more than other cities."
   ]
  },
  {
   "cell_type": "code",
   "execution_count": 13,
   "id": "b123aeaa",
   "metadata": {},
   "outputs": [
    {
     "data": {
      "text/plain": [
       "{'Bangalore': 2228, 'Pune': 1268, 'New Delhi': 1157}"
      ]
     },
     "execution_count": 13,
     "metadata": {},
     "output_type": "execute_result"
    }
   ],
   "source": [
    "df['City'].value_counts().to_dict()"
   ]
  },
  {
   "cell_type": "code",
   "execution_count": 14,
   "id": "1d498677",
   "metadata": {},
   "outputs": [],
   "source": [
    "df['City'].replace({'Bangalore': 0, 'Pune': 1, 'New Delhi': 2}, inplace = True)"
   ]
  },
  {
   "cell_type": "code",
   "execution_count": null,
   "id": "11a453b4",
   "metadata": {},
   "outputs": [],
   "source": []
  },
  {
   "cell_type": "markdown",
   "id": "49564193",
   "metadata": {},
   "source": [
    "### PaymentTier"
   ]
  },
  {
   "cell_type": "code",
   "execution_count": 15,
   "id": "d8900223",
   "metadata": {},
   "outputs": [
    {
     "data": {
      "text/plain": [
       "<AxesSubplot:xlabel='PaymentTier', ylabel='count'>"
      ]
     },
     "execution_count": 15,
     "metadata": {},
     "output_type": "execute_result"
    },
    {
     "data": {
      "image/png": "[encoded data removed]",
      "text/plain": [
       "<Figure size 432x288 with 1 Axes>"
      ]
     },
     "metadata": {
      "needs_background": "light"
     },
     "output_type": "display_data"
    }
   ],
   "source": [
    "sns.countplot(df['PaymentTier'])"
   ]
  },
  {
   "cell_type": "code",
   "execution_count": 16,
   "id": "0e383ac4",
   "metadata": {},
   "outputs": [
    {
     "data": {
      "text/html": [
       "<div>\n",
       "<style scoped>\n",
       "    .dataframe tbody tr th:only-of-type {\n",
       "        vertical-align: middle;\n",
       "    }\n",
       "\n",
       "    .dataframe tbody tr th {\n",
       "        vertical-align: top;\n",
       "    }\n",
       "\n",
       "    .dataframe thead th {\n",
       "        text-align: right;\n",
       "    }\n",
       "</style>\n",
       "<table border=\"1\" class=\"dataframe\">\n",
       "  <thead>\n",
       "    <tr style=\"text-align: right;\">\n",
       "      <th>LeaveOrNot</th>\n",
       "      <th>0</th>\n",
       "      <th>1</th>\n",
       "      <th>percent_leaving</th>\n",
       "    </tr>\n",
       "    <tr>\n",
       "      <th>PaymentTier</th>\n",
       "      <th></th>\n",
       "      <th></th>\n",
       "      <th></th>\n",
       "    </tr>\n",
       "  </thead>\n",
       "  <tbody>\n",
       "    <tr>\n",
       "      <th>1</th>\n",
       "      <td>154</td>\n",
       "      <td>89</td>\n",
       "      <td>36.625514</td>\n",
       "    </tr>\n",
       "    <tr>\n",
       "      <th>2</th>\n",
       "      <td>368</td>\n",
       "      <td>550</td>\n",
       "      <td>59.912854</td>\n",
       "    </tr>\n",
       "    <tr>\n",
       "      <th>3</th>\n",
       "      <td>2531</td>\n",
       "      <td>961</td>\n",
       "      <td>27.520046</td>\n",
       "    </tr>\n",
       "  </tbody>\n",
       "</table>\n",
       "</div>"
      ],
      "text/plain": [
       "LeaveOrNot      0    1  percent_leaving\n",
       "PaymentTier                            \n",
       "1             154   89        36.625514\n",
       "2             368  550        59.912854\n",
       "3            2531  961        27.520046"
      ]
     },
     "execution_count": 16,
     "metadata": {},
     "output_type": "execute_result"
    }
   ],
   "source": [
    "get_dist_with_leaveornot(df['PaymentTier'])"
   ]
  },
  {
   "cell_type": "code",
   "execution_count": null,
   "id": "3f469d8a",
   "metadata": {},
   "outputs": [],
   "source": []
  },
  {
   "cell_type": "markdown",
   "id": "03cf020c",
   "metadata": {},
   "source": [
    "### Age"
   ]
  },
  {
   "cell_type": "code",
   "execution_count": 17,
   "id": "2a62d132",
   "metadata": {},
   "outputs": [
    {
     "data": {
      "text/plain": [
       "<AxesSubplot:xlabel='Age', ylabel='Density'>"
      ]
     },
     "execution_count": 17,
     "metadata": {},
     "output_type": "execute_result"
    },
    {
     "data": {
      "image/png": "[encoded data removed]",
      "text/plain": [
       "<Figure size 432x288 with 1 Axes>"
      ]
     },
     "metadata": {
      "needs_background": "light"
     },
     "output_type": "display_data"
    }
   ],
   "source": [
    "sns.kdeplot(df['Age'])"
   ]
  },
  {
   "cell_type": "raw",
   "id": "583c260a",
   "metadata": {},
   "source": [
    "we have right skewed data which is expected in case of age"
   ]
  },
  {
   "cell_type": "code",
   "execution_count": 18,
   "id": "da181378",
   "metadata": {},
   "outputs": [
    {
     "data": {
      "text/plain": [
       "<AxesSubplot:xlabel='Age'>"
      ]
     },
     "execution_count": 18,
     "metadata": {},
     "output_type": "execute_result"
    },
    {
     "data": {
      "image/png": "[encoded data removed]",
      "text/plain": [
       "<Figure size 432x288 with 1 Axes>"
      ]
     },
     "metadata": {
      "needs_background": "light"
     },
     "output_type": "display_data"
    }
   ],
   "source": [
    "sns.boxplot(df['Age'])"
   ]
  },
  {
   "cell_type": "raw",
   "id": "c1d3165c",
   "metadata": {},
   "source": [
    "From boxplot we can see that there are no outliers in data"
   ]
  },
  {
   "cell_type": "code",
   "execution_count": 19,
   "id": "701fc41e",
   "metadata": {},
   "outputs": [
    {
     "data": {
      "text/plain": [
       "count    4653.000000\n",
       "mean       29.393295\n",
       "std         4.826087\n",
       "min        22.000000\n",
       "25%        26.000000\n",
       "50%        28.000000\n",
       "75%        32.000000\n",
       "max        41.000000\n",
       "Name: Age, dtype: float64"
      ]
     },
     "execution_count": 19,
     "metadata": {},
     "output_type": "execute_result"
    }
   ],
   "source": [
    "df['Age'].describe()"
   ]
  },
  {
   "cell_type": "code",
   "execution_count": null,
   "id": "ee5bccd9",
   "metadata": {},
   "outputs": [],
   "source": []
  },
  {
   "cell_type": "markdown",
   "id": "d7b642a7",
   "metadata": {},
   "source": [
    "### Gender"
   ]
  },
  {
   "cell_type": "code",
   "execution_count": 20,
   "id": "ccc92464",
   "metadata": {},
   "outputs": [
    {
     "data": {
      "text/plain": [
       "<AxesSubplot:xlabel='Gender', ylabel='count'>"
      ]
     },
     "execution_count": 20,
     "metadata": {},
     "output_type": "execute_result"
    },
    {
     "data": {
      "image/png": "[encoded data removed]",
      "text/plain": [
       "<Figure size 432x288 with 1 Axes>"
      ]
     },
     "metadata": {
      "needs_background": "light"
     },
     "output_type": "display_data"
    }
   ],
   "source": [
    "sns.countplot(df['Gender'])"
   ]
  },
  {
   "cell_type": "code",
   "execution_count": 21,
   "id": "24b44e81",
   "metadata": {},
   "outputs": [
    {
     "data": {
      "text/html": [
       "<div>\n",
       "<style scoped>\n",
       "    .dataframe tbody tr th:only-of-type {\n",
       "        vertical-align: middle;\n",
       "    }\n",
       "\n",
       "    .dataframe tbody tr th {\n",
       "        vertical-align: top;\n",
       "    }\n",
       "\n",
       "    .dataframe thead th {\n",
       "        text-align: right;\n",
       "    }\n",
       "</style>\n",
       "<table border=\"1\" class=\"dataframe\">\n",
       "  <thead>\n",
       "    <tr style=\"text-align: right;\">\n",
       "      <th>LeaveOrNot</th>\n",
       "      <th>0</th>\n",
       "      <th>1</th>\n",
       "      <th>percent_leaving</th>\n",
       "    </tr>\n",
       "    <tr>\n",
       "      <th>Gender</th>\n",
       "      <th></th>\n",
       "      <th></th>\n",
       "      <th></th>\n",
       "    </tr>\n",
       "  </thead>\n",
       "  <tbody>\n",
       "    <tr>\n",
       "      <th>Female</th>\n",
       "      <td>991</td>\n",
       "      <td>884</td>\n",
       "      <td>47.146667</td>\n",
       "    </tr>\n",
       "    <tr>\n",
       "      <th>Male</th>\n",
       "      <td>2062</td>\n",
       "      <td>716</td>\n",
       "      <td>25.773938</td>\n",
       "    </tr>\n",
       "  </tbody>\n",
       "</table>\n",
       "</div>"
      ],
      "text/plain": [
       "LeaveOrNot     0    1  percent_leaving\n",
       "Gender                                \n",
       "Female       991  884        47.146667\n",
       "Male        2062  716        25.773938"
      ]
     },
     "execution_count": 21,
     "metadata": {},
     "output_type": "execute_result"
    }
   ],
   "source": [
    "get_dist_with_leaveornot(df['Gender'])"
   ]
  },
  {
   "cell_type": "raw",
   "id": "836d4beb",
   "metadata": {},
   "source": [
    "Percentage of Female employees leaving the company is more than male employees."
   ]
  },
  {
   "cell_type": "code",
   "execution_count": 22,
   "id": "1133d1a4",
   "metadata": {},
   "outputs": [],
   "source": [
    "df['Gender'].replace({'Male': 0, 'Female': 1}, inplace = True)"
   ]
  },
  {
   "cell_type": "code",
   "execution_count": null,
   "id": "65a9032f",
   "metadata": {},
   "outputs": [],
   "source": []
  },
  {
   "cell_type": "markdown",
   "id": "1f6b1438",
   "metadata": {},
   "source": [
    "### EverBenched"
   ]
  },
  {
   "cell_type": "code",
   "execution_count": 23,
   "id": "addf1347",
   "metadata": {},
   "outputs": [
    {
     "data": {
      "text/plain": [
       "<AxesSubplot:xlabel='EverBenched', ylabel='count'>"
      ]
     },
     "execution_count": 23,
     "metadata": {},
     "output_type": "execute_result"
    },
    {
     "data": {
      "image/png": "[encoded data removed]",
      "text/plain": [
       "<Figure size 432x288 with 1 Axes>"
      ]
     },
     "metadata": {
      "needs_background": "light"
     },
     "output_type": "display_data"
    }
   ],
   "source": [
    "sns.countplot(df['EverBenched'])"
   ]
  },
  {
   "cell_type": "code",
   "execution_count": 24,
   "id": "d78b737e",
   "metadata": {},
   "outputs": [
    {
     "data": {
      "text/html": [
       "<div>\n",
       "<style scoped>\n",
       "    .dataframe tbody tr th:only-of-type {\n",
       "        vertical-align: middle;\n",
       "    }\n",
       "\n",
       "    .dataframe tbody tr th {\n",
       "        vertical-align: top;\n",
       "    }\n",
       "\n",
       "    .dataframe thead th {\n",
       "        text-align: right;\n",
       "    }\n",
       "</style>\n",
       "<table border=\"1\" class=\"dataframe\">\n",
       "  <thead>\n",
       "    <tr style=\"text-align: right;\">\n",
       "      <th>LeaveOrNot</th>\n",
       "      <th>0</th>\n",
       "      <th>1</th>\n",
       "      <th>percent_leaving</th>\n",
       "    </tr>\n",
       "    <tr>\n",
       "      <th>EverBenched</th>\n",
       "      <th></th>\n",
       "      <th></th>\n",
       "      <th></th>\n",
       "    </tr>\n",
       "  </thead>\n",
       "  <tbody>\n",
       "    <tr>\n",
       "      <th>No</th>\n",
       "      <td>2792</td>\n",
       "      <td>1383</td>\n",
       "      <td>33.125749</td>\n",
       "    </tr>\n",
       "    <tr>\n",
       "      <th>Yes</th>\n",
       "      <td>261</td>\n",
       "      <td>217</td>\n",
       "      <td>45.397490</td>\n",
       "    </tr>\n",
       "  </tbody>\n",
       "</table>\n",
       "</div>"
      ],
      "text/plain": [
       "LeaveOrNot      0     1  percent_leaving\n",
       "EverBenched                             \n",
       "No           2792  1383        33.125749\n",
       "Yes           261   217        45.397490"
      ]
     },
     "execution_count": 24,
     "metadata": {},
     "output_type": "execute_result"
    }
   ],
   "source": [
    "get_dist_with_leaveornot(df['EverBenched'])"
   ]
  },
  {
   "cell_type": "raw",
   "id": "4e1ac506",
   "metadata": {},
   "source": [
    "Attrition rate of benched employees is more."
   ]
  },
  {
   "cell_type": "code",
   "execution_count": 25,
   "id": "c636f89b",
   "metadata": {},
   "outputs": [],
   "source": [
    "df['EverBenched'].replace({'No': 0, 'Yes': 1}, inplace = True)"
   ]
  },
  {
   "cell_type": "code",
   "execution_count": null,
   "id": "9f5e7030",
   "metadata": {},
   "outputs": [],
   "source": []
  },
  {
   "cell_type": "markdown",
   "id": "a5214c62",
   "metadata": {},
   "source": [
    "### Experience In Current Domain"
   ]
  },
  {
   "cell_type": "code",
   "execution_count": 26,
   "id": "456414ed",
   "metadata": {},
   "outputs": [
    {
     "data": {
      "text/plain": [
       "<AxesSubplot:xlabel='ExperienceInCurrentDomain', ylabel='count'>"
      ]
     },
     "execution_count": 26,
     "metadata": {},
     "output_type": "execute_result"
    },
    {
     "data": {
      "image/png": "[encoded data removed]",
      "text/plain": [
       "<Figure size 432x288 with 1 Axes>"
      ]
     },
     "metadata": {
      "needs_background": "light"
     },
     "output_type": "display_data"
    }
   ],
   "source": [
    "sns.countplot(df['ExperienceInCurrentDomain'])"
   ]
  },
  {
   "cell_type": "code",
   "execution_count": 27,
   "id": "b914bd49",
   "metadata": {},
   "outputs": [
    {
     "data": {
      "text/html": [
       "<div>\n",
       "<style scoped>\n",
       "    .dataframe tbody tr th:only-of-type {\n",
       "        vertical-align: middle;\n",
       "    }\n",
       "\n",
       "    .dataframe tbody tr th {\n",
       "        vertical-align: top;\n",
       "    }\n",
       "\n",
       "    .dataframe thead th {\n",
       "        text-align: right;\n",
       "    }\n",
       "</style>\n",
       "<table border=\"1\" class=\"dataframe\">\n",
       "  <thead>\n",
       "    <tr style=\"text-align: right;\">\n",
       "      <th>LeaveOrNot</th>\n",
       "      <th>0</th>\n",
       "      <th>1</th>\n",
       "      <th>percent_leaving</th>\n",
       "    </tr>\n",
       "    <tr>\n",
       "      <th>ExperienceInCurrentDomain</th>\n",
       "      <th></th>\n",
       "      <th></th>\n",
       "      <th></th>\n",
       "    </tr>\n",
       "  </thead>\n",
       "  <tbody>\n",
       "    <tr>\n",
       "      <th>0</th>\n",
       "      <td>231</td>\n",
       "      <td>124</td>\n",
       "      <td>34.929577</td>\n",
       "    </tr>\n",
       "    <tr>\n",
       "      <th>1</th>\n",
       "      <td>370</td>\n",
       "      <td>188</td>\n",
       "      <td>33.691756</td>\n",
       "    </tr>\n",
       "    <tr>\n",
       "      <th>2</th>\n",
       "      <td>688</td>\n",
       "      <td>399</td>\n",
       "      <td>36.706532</td>\n",
       "    </tr>\n",
       "    <tr>\n",
       "      <th>3</th>\n",
       "      <td>487</td>\n",
       "      <td>299</td>\n",
       "      <td>38.040712</td>\n",
       "    </tr>\n",
       "    <tr>\n",
       "      <th>4</th>\n",
       "      <td>634</td>\n",
       "      <td>297</td>\n",
       "      <td>31.901182</td>\n",
       "    </tr>\n",
       "    <tr>\n",
       "      <th>5</th>\n",
       "      <td>631</td>\n",
       "      <td>288</td>\n",
       "      <td>31.338411</td>\n",
       "    </tr>\n",
       "    <tr>\n",
       "      <th>6</th>\n",
       "      <td>6</td>\n",
       "      <td>2</td>\n",
       "      <td>25.000000</td>\n",
       "    </tr>\n",
       "    <tr>\n",
       "      <th>7</th>\n",
       "      <td>6</td>\n",
       "      <td>3</td>\n",
       "      <td>33.333333</td>\n",
       "    </tr>\n",
       "  </tbody>\n",
       "</table>\n",
       "</div>"
      ],
      "text/plain": [
       "LeaveOrNot                   0    1  percent_leaving\n",
       "ExperienceInCurrentDomain                           \n",
       "0                          231  124        34.929577\n",
       "1                          370  188        33.691756\n",
       "2                          688  399        36.706532\n",
       "3                          487  299        38.040712\n",
       "4                          634  297        31.901182\n",
       "5                          631  288        31.338411\n",
       "6                            6    2        25.000000\n",
       "7                            6    3        33.333333"
      ]
     },
     "execution_count": 27,
     "metadata": {},
     "output_type": "execute_result"
    }
   ],
   "source": [
    "get_dist_with_leaveornot(df['ExperienceInCurrentDomain'])"
   ]
  },
  {
   "cell_type": "code",
   "execution_count": null,
   "id": "f6e1a63e",
   "metadata": {},
   "outputs": [],
   "source": []
  },
  {
   "cell_type": "markdown",
   "id": "32b74127",
   "metadata": {},
   "source": [
    "### Leave Or Not"
   ]
  },
  {
   "cell_type": "code",
   "execution_count": 28,
   "id": "8f2b02e2",
   "metadata": {},
   "outputs": [
    {
     "data": {
      "text/plain": [
       "<AxesSubplot:xlabel='LeaveOrNot', ylabel='count'>"
      ]
     },
     "execution_count": 28,
     "metadata": {},
     "output_type": "execute_result"
    },
    {
     "data": {
      "image/png": "[encoded data removed]",
      "text/plain": [
       "<Figure size 432x288 with 1 Axes>"
      ]
     },
     "metadata": {
      "needs_background": "light"
     },
     "output_type": "display_data"
    }
   ],
   "source": [
    "sns.countplot(df['LeaveOrNot'])"
   ]
  },
  {
   "cell_type": "raw",
   "id": "70b0895d",
   "metadata": {},
   "source": [
    "As we can see the data is imbalance, so we will balance it later"
   ]
  },
  {
   "cell_type": "code",
   "execution_count": 29,
   "id": "4fd83781",
   "metadata": {},
   "outputs": [],
   "source": [
    "sample_leave_df = df[df['LeaveOrNot'] == 1].sample(1500)"
   ]
  },
  {
   "cell_type": "markdown",
   "id": "9959e7b5",
   "metadata": {},
   "source": [
    "# Splitting data into training and testing dataset"
   ]
  },
  {
   "cell_type": "code",
   "execution_count": 30,
   "id": "d7d8f6cc",
   "metadata": {},
   "outputs": [],
   "source": [
    "x = df.drop('LeaveOrNot', axis = 1)\n",
    "y = df['LeaveOrNot']"
   ]
  },
  {
   "cell_type": "code",
   "execution_count": 31,
   "id": "57cf9686",
   "metadata": {},
   "outputs": [],
   "source": [
    "smote = SMOTE()\n",
    "x,y = smote.fit_resample(x,y)"
   ]
  },
  {
   "cell_type": "code",
   "execution_count": 32,
   "id": "ca631a5c",
   "metadata": {},
   "outputs": [],
   "source": [
    "x = x.append(sample_leave_df.drop('LeaveOrNot', axis = 1))"
   ]
  },
  {
   "cell_type": "code",
   "execution_count": 33,
   "id": "0389a706",
   "metadata": {},
   "outputs": [],
   "source": [
    "y = y.append(sample_leave_df['LeaveOrNot'])"
   ]
  },
  {
   "cell_type": "code",
   "execution_count": 34,
   "id": "65d4920a",
   "metadata": {},
   "outputs": [
    {
     "data": {
      "text/plain": [
       "1    4553\n",
       "0    3053\n",
       "Name: LeaveOrNot, dtype: int64"
      ]
     },
     "execution_count": 34,
     "metadata": {},
     "output_type": "execute_result"
    }
   ],
   "source": [
    "y.value_counts()"
   ]
  },
  {
   "cell_type": "code",
   "execution_count": 35,
   "id": "cd30290e",
   "metadata": {},
   "outputs": [],
   "source": [
    "smote = SMOTE()\n",
    "x,y = smote.fit_resample(x,y)"
   ]
  },
  {
   "cell_type": "code",
   "execution_count": 36,
   "id": "e478854f",
   "metadata": {},
   "outputs": [
    {
     "data": {
      "text/plain": [
       "0    4553\n",
       "1    4553\n",
       "Name: LeaveOrNot, dtype: int64"
      ]
     },
     "execution_count": 36,
     "metadata": {},
     "output_type": "execute_result"
    }
   ],
   "source": [
    "y.value_counts()"
   ]
  },
  {
   "cell_type": "code",
   "execution_count": 37,
   "id": "c91970be",
   "metadata": {},
   "outputs": [],
   "source": [
    "scaler = MinMaxScaler()\n",
    "x = scaler.fit_transform(x)"
   ]
  },
  {
   "cell_type": "code",
   "execution_count": 38,
   "id": "b82fec46",
   "metadata": {},
   "outputs": [],
   "source": [
    "pickle.dump(scaler, open('scaler.pkl', 'wb'))"
   ]
  },
  {
   "cell_type": "code",
   "execution_count": 39,
   "id": "27ea3f5c",
   "metadata": {},
   "outputs": [],
   "source": [
    "x_train, x_test, y_train, y_test = train_test_split(x, y, random_state=10, stratify=y)"
   ]
  },
  {
   "cell_type": "code",
   "execution_count": null,
   "id": "ae4580f1",
   "metadata": {},
   "outputs": [],
   "source": []
  },
  {
   "cell_type": "markdown",
   "id": "043d3a7e",
   "metadata": {},
   "source": [
    "# Model training"
   ]
  },
  {
   "cell_type": "code",
   "execution_count": 40,
   "id": "f980758b",
   "metadata": {},
   "outputs": [],
   "source": [
    "class Evaluation():\n",
    "    def __init__(self, model):\n",
    "        self.model = model\n",
    "          \n",
    "    def train(self, x_train, y_train):\n",
    "        y_train_pred = self.model.predict(x_train)\n",
    "        print(f\"accuracy score of training dataset : {accuracy_score(y_train, y_train_pred)}\\n\")\n",
    "        print(classification_report(y_train, y_train_pred))\n",
    "        cm = confusion_matrix(y_train, y_train_pred)\n",
    "        ConfusionMatrixDisplay(cm).plot()\n",
    "        \n",
    "    def test(self, x_test, y_test):\n",
    "        y_test_pred = self.model.predict(x_test)\n",
    "        print(f\"accuracy score of testing dataset : {accuracy_score(y_test, y_test_pred)}\\n\")\n",
    "        print(classification_report(y_test, y_test_pred))\n",
    "        cm = confusion_matrix(y_test, y_test_pred)\n",
    "        ConfusionMatrixDisplay(cm).plot()"
   ]
  },
  {
   "cell_type": "markdown",
   "id": "56ff3fc0",
   "metadata": {},
   "source": [
    "## KNN"
   ]
  },
  {
   "cell_type": "code",
   "execution_count": 41,
   "id": "ae0d1d85",
   "metadata": {},
   "outputs": [
    {
     "data": {
      "text/plain": [
       "KNeighborsClassifier()"
      ]
     },
     "execution_count": 41,
     "metadata": {},
     "output_type": "execute_result"
    }
   ],
   "source": [
    "KNN = KNeighborsClassifier()\n",
    "KNN.fit(x_train, y_train)"
   ]
  },
  {
   "cell_type": "code",
   "execution_count": 42,
   "id": "77954c26",
   "metadata": {},
   "outputs": [],
   "source": [
    "knn_evaluation = Evaluation(KNN)"
   ]
  },
  {
   "cell_type": "markdown",
   "id": "139fb6d7",
   "metadata": {},
   "source": [
    "### Training data Evaluation of KNN Model"
   ]
  },
  {
   "cell_type": "code",
   "execution_count": 43,
   "id": "df005892",
   "metadata": {},
   "outputs": [
    {
     "name": "stdout",
     "output_type": "stream",
     "text": [
      "accuracy score of training dataset : 0.8591301801142188\n",
      "\n",
      "              precision    recall  f1-score   support\n",
      "\n",
      "           0       0.85      0.87      0.86      3415\n",
      "           1       0.87      0.84      0.86      3414\n",
      "\n",
      "    accuracy                           0.86      6829\n",
      "   macro avg       0.86      0.86      0.86      6829\n",
      "weighted avg       0.86      0.86      0.86      6829\n",
      "\n"
     ]
    },
    {
     "data": {
      "image/png": "[encoded data removed]",
      "text/plain": [
       "<Figure size 432x288 with 2 Axes>"
      ]
     },
     "metadata": {
      "needs_background": "light"
     },
     "output_type": "display_data"
    }
   ],
   "source": [
    "knn_evaluation.train(x_train, y_train)"
   ]
  },
  {
   "cell_type": "markdown",
   "id": "ea43d7a1",
   "metadata": {},
   "source": [
    "### Testing data Evaluation of KNN Model"
   ]
  },
  {
   "cell_type": "code",
   "execution_count": 44,
   "id": "213aa580",
   "metadata": {},
   "outputs": [
    {
     "name": "stdout",
     "output_type": "stream",
     "text": [
      "accuracy score of testing dataset : 0.8063241106719368\n",
      "\n",
      "              precision    recall  f1-score   support\n",
      "\n",
      "           0       0.80      0.82      0.81      1138\n",
      "           1       0.82      0.79      0.80      1139\n",
      "\n",
      "    accuracy                           0.81      2277\n",
      "   macro avg       0.81      0.81      0.81      2277\n",
      "weighted avg       0.81      0.81      0.81      2277\n",
      "\n"
     ]
    },
    {
     "data": {
      "image/png": "[encoded data removed]",
      "text/plain": [
       "<Figure size 432x288 with 2 Axes>"
      ]
     },
     "metadata": {
      "needs_background": "light"
     },
     "output_type": "display_data"
    }
   ],
   "source": [
    "knn_evaluation.test(x_test, y_test)"
   ]
  },
  {
   "cell_type": "raw",
   "id": "f0e75c65",
   "metadata": {},
   "source": [
    "Accuracy of KNN is not satisfactory, aslo overfitting issue is there, so we will try different model."
   ]
  },
  {
   "cell_type": "code",
   "execution_count": null,
   "id": "bc5a301a",
   "metadata": {},
   "outputs": [],
   "source": []
  },
  {
   "cell_type": "markdown",
   "id": "143143a2",
   "metadata": {},
   "source": [
    "## Decision Tree"
   ]
  },
  {
   "cell_type": "code",
   "execution_count": 45,
   "id": "593466a5",
   "metadata": {},
   "outputs": [
    {
     "data": {
      "text/plain": [
       "DecisionTreeClassifier()"
      ]
     },
     "execution_count": 45,
     "metadata": {},
     "output_type": "execute_result"
    }
   ],
   "source": [
    "dt = DecisionTreeClassifier()\n",
    "dt.fit(x_train, y_train)"
   ]
  },
  {
   "cell_type": "code",
   "execution_count": 46,
   "id": "c39664f7",
   "metadata": {},
   "outputs": [],
   "source": [
    "dt_evaluation = Evaluation(dt)"
   ]
  },
  {
   "cell_type": "markdown",
   "id": "92c7995e",
   "metadata": {},
   "source": [
    "### Training data Evaluation of DT Model"
   ]
  },
  {
   "cell_type": "code",
   "execution_count": 47,
   "id": "86080b06",
   "metadata": {},
   "outputs": [
    {
     "name": "stdout",
     "output_type": "stream",
     "text": [
      "accuracy score of training dataset : 0.9155073949333724\n",
      "\n",
      "              precision    recall  f1-score   support\n",
      "\n",
      "           0       0.89      0.95      0.92      3415\n",
      "           1       0.95      0.88      0.91      3414\n",
      "\n",
      "    accuracy                           0.92      6829\n",
      "   macro avg       0.92      0.92      0.92      6829\n",
      "weighted avg       0.92      0.92      0.92      6829\n",
      "\n"
     ]
    },
    {
     "data": {
      "image/png": "[encoded data removed]",
      "text/plain": [
       "<Figure size 432x288 with 2 Axes>"
      ]
     },
     "metadata": {
      "needs_background": "light"
     },
     "output_type": "display_data"
    }
   ],
   "source": [
    "dt_evaluation.train(x_train, y_train)"
   ]
  },
  {
   "cell_type": "markdown",
   "id": "200d8329",
   "metadata": {},
   "source": [
    "### Testing data Evaluation of DT Model"
   ]
  },
  {
   "cell_type": "code",
   "execution_count": 48,
   "id": "41101327",
   "metadata": {},
   "outputs": [
    {
     "name": "stdout",
     "output_type": "stream",
     "text": [
      "accuracy score of testing dataset : 0.841897233201581\n",
      "\n",
      "              precision    recall  f1-score   support\n",
      "\n",
      "           0       0.83      0.86      0.85      1138\n",
      "           1       0.86      0.82      0.84      1139\n",
      "\n",
      "    accuracy                           0.84      2277\n",
      "   macro avg       0.84      0.84      0.84      2277\n",
      "weighted avg       0.84      0.84      0.84      2277\n",
      "\n"
     ]
    },
    {
     "data": {
      "image/png": "[encoded data removed]",
      "text/plain": [
       "<Figure size 432x288 with 2 Axes>"
      ]
     },
     "metadata": {
      "needs_background": "light"
     },
     "output_type": "display_data"
    }
   ],
   "source": [
    "dt_evaluation.test(x_test, y_test)"
   ]
  },
  {
   "cell_type": "markdown",
   "id": "5f53b7a8",
   "metadata": {},
   "source": [
    "### Hyperparameter Tuning of DT Model"
   ]
  },
  {
   "cell_type": "code",
   "execution_count": 49,
   "id": "10123967",
   "metadata": {},
   "outputs": [],
   "source": [
    "hyperparameters = {\n",
    "                   'max_depth' : np.arange(2,10),\n",
    "                   'min_samples_split' : np.arange(2,20),\n",
    "                   'min_samples_leaf' : np.arange(1,20) ,\n",
    "                   'criterion' : [\"gini\", \"entropy\"]\n",
    "                  }"
   ]
  },
  {
   "cell_type": "code",
   "execution_count": 50,
   "id": "906d802d",
   "metadata": {},
   "outputs": [
    {
     "data": {
      "text/plain": [
       "RandomizedSearchCV(cv=5, estimator=DecisionTreeClassifier(), n_iter=50,\n",
       "                   param_distributions={'criterion': ['gini', 'entropy'],\n",
       "                                        'max_depth': array([2, 3, 4, 5, 6, 7, 8, 9]),\n",
       "                                        'min_samples_leaf': array([ 1,  2,  3,  4,  5,  6,  7,  8,  9, 10, 11, 12, 13, 14, 15, 16, 17,\n",
       "       18, 19]),\n",
       "                                        'min_samples_split': array([ 2,  3,  4,  5,  6,  7,  8,  9, 10, 11, 12, 13, 14, 15, 16, 17, 18,\n",
       "       19])})"
      ]
     },
     "execution_count": 50,
     "metadata": {},
     "output_type": "execute_result"
    }
   ],
   "source": [
    "dt = DecisionTreeClassifier()\n",
    "rscv = RandomizedSearchCV(dt, hyperparameters, cv = 5, n_iter=50)\n",
    "rscv.fit(x_train, y_train)"
   ]
  },
  {
   "cell_type": "code",
   "execution_count": 51,
   "id": "8c0eb220",
   "metadata": {},
   "outputs": [
    {
     "data": {
      "text/plain": [
       "DecisionTreeClassifier(criterion='entropy', max_depth=9, min_samples_split=3)"
      ]
     },
     "execution_count": 51,
     "metadata": {},
     "output_type": "execute_result"
    }
   ],
   "source": [
    "dt_hypertune = rscv.best_estimator_\n",
    "dt_hypertune.fit(x_train,y_train)"
   ]
  },
  {
   "cell_type": "code",
   "execution_count": 52,
   "id": "96cc4d59",
   "metadata": {},
   "outputs": [],
   "source": [
    "dt_hypertune_evaluation = Evaluation(dt_hypertune)"
   ]
  },
  {
   "cell_type": "code",
   "execution_count": 53,
   "id": "bd6483c4",
   "metadata": {},
   "outputs": [
    {
     "name": "stdout",
     "output_type": "stream",
     "text": [
      "accuracy score of training dataset : 0.8417044955337531\n",
      "\n",
      "              precision    recall  f1-score   support\n",
      "\n",
      "           0       0.79      0.94      0.86      3415\n",
      "           1       0.92      0.75      0.82      3414\n",
      "\n",
      "    accuracy                           0.84      6829\n",
      "   macro avg       0.85      0.84      0.84      6829\n",
      "weighted avg       0.85      0.84      0.84      6829\n",
      "\n"
     ]
    },
    {
     "data": {
      "image/png": "[encoded data removed]",
      "text/plain": [
       "<Figure size 432x288 with 2 Axes>"
      ]
     },
     "metadata": {
      "needs_background": "light"
     },
     "output_type": "display_data"
    }
   ],
   "source": [
    "dt_hypertune_evaluation.train(x_train, y_train)"
   ]
  },
  {
   "cell_type": "code",
   "execution_count": 54,
   "id": "ab81beee",
   "metadata": {},
   "outputs": [
    {
     "name": "stdout",
     "output_type": "stream",
     "text": [
      "accuracy score of testing dataset : 0.8234519104084321\n",
      "\n",
      "              precision    recall  f1-score   support\n",
      "\n",
      "           0       0.77      0.93      0.84      1138\n",
      "           1       0.91      0.72      0.80      1139\n",
      "\n",
      "    accuracy                           0.82      2277\n",
      "   macro avg       0.84      0.82      0.82      2277\n",
      "weighted avg       0.84      0.82      0.82      2277\n",
      "\n"
     ]
    },
    {
     "data": {
      "image/png": "[encoded data removed]",
      "text/plain": [
       "<Figure size 432x288 with 2 Axes>"
      ]
     },
     "metadata": {
      "needs_background": "light"
     },
     "output_type": "display_data"
    }
   ],
   "source": [
    "dt_hypertune_evaluation.test(x_test, y_test)"
   ]
  },
  {
   "cell_type": "code",
   "execution_count": null,
   "id": "3ef3d350",
   "metadata": {},
   "outputs": [],
   "source": []
  },
  {
   "cell_type": "markdown",
   "id": "55150a48",
   "metadata": {},
   "source": [
    "## Random Forest"
   ]
  },
  {
   "cell_type": "code",
   "execution_count": 55,
   "id": "61f14513",
   "metadata": {},
   "outputs": [
    {
     "data": {
      "text/plain": [
       "RandomForestClassifier()"
      ]
     },
     "execution_count": 55,
     "metadata": {},
     "output_type": "execute_result"
    }
   ],
   "source": [
    "rf = RandomForestClassifier()\n",
    "rf.fit(x_train, y_train)"
   ]
  },
  {
   "cell_type": "code",
   "execution_count": 56,
   "id": "90f3557b",
   "metadata": {},
   "outputs": [],
   "source": [
    "rf_evaluation = Evaluation(rf)"
   ]
  },
  {
   "cell_type": "markdown",
   "id": "8d8f4eda",
   "metadata": {},
   "source": [
    "### Training data evaluation of RF Model"
   ]
  },
  {
   "cell_type": "code",
   "execution_count": 57,
   "id": "80d92197",
   "metadata": {},
   "outputs": [
    {
     "name": "stdout",
     "output_type": "stream",
     "text": [
      "accuracy score of training dataset : 0.9155073949333724\n",
      "\n",
      "              precision    recall  f1-score   support\n",
      "\n",
      "           0       0.90      0.94      0.92      3415\n",
      "           1       0.94      0.89      0.91      3414\n",
      "\n",
      "    accuracy                           0.92      6829\n",
      "   macro avg       0.92      0.92      0.92      6829\n",
      "weighted avg       0.92      0.92      0.92      6829\n",
      "\n"
     ]
    },
    {
     "data": {
      "image/png": "[encoded data removed]",
      "text/plain": [
       "<Figure size 432x288 with 2 Axes>"
      ]
     },
     "metadata": {
      "needs_background": "light"
     },
     "output_type": "display_data"
    }
   ],
   "source": [
    "rf_evaluation.train(x_train, y_train)"
   ]
  },
  {
   "cell_type": "markdown",
   "id": "365a1c55",
   "metadata": {},
   "source": [
    "### Testing data evaluation of RF Model"
   ]
  },
  {
   "cell_type": "code",
   "execution_count": 58,
   "id": "98940814",
   "metadata": {},
   "outputs": [
    {
     "name": "stdout",
     "output_type": "stream",
     "text": [
      "accuracy score of testing dataset : 0.847167325428195\n",
      "\n",
      "              precision    recall  f1-score   support\n",
      "\n",
      "           0       0.84      0.86      0.85      1138\n",
      "           1       0.86      0.83      0.84      1139\n",
      "\n",
      "    accuracy                           0.85      2277\n",
      "   macro avg       0.85      0.85      0.85      2277\n",
      "weighted avg       0.85      0.85      0.85      2277\n",
      "\n"
     ]
    },
    {
     "data": {
      "image/png": "[encoded data removed]",
      "text/plain": [
       "<Figure size 432x288 with 2 Axes>"
      ]
     },
     "metadata": {
      "needs_background": "light"
     },
     "output_type": "display_data"
    }
   ],
   "source": [
    "rf_evaluation.test(x_test, y_test)"
   ]
  },
  {
   "cell_type": "raw",
   "id": "12fc9715",
   "metadata": {},
   "source": [
    "As the model is overfit on training data so we will try to hypertune the model"
   ]
  },
  {
   "cell_type": "markdown",
   "id": "0d20e404",
   "metadata": {},
   "source": [
    "### Hyperparameter Tuning of Random Forest Model"
   ]
  },
  {
   "cell_type": "code",
   "execution_count": 59,
   "id": "5c62ce47",
   "metadata": {},
   "outputs": [],
   "source": [
    "hyperparameters = {'n_estimators' : np.arange(100,200),\n",
    "                   'max_depth' : np.arange(2,10),\n",
    "                   'min_samples_split' : np.arange(2,20),\n",
    "                   'min_samples_leaf' : np.arange(1,20) ,\n",
    "                   'criterion' : [\"gini\", \"entropy\"]\n",
    "                  }"
   ]
  },
  {
   "cell_type": "code",
   "execution_count": 60,
   "id": "82cbc124",
   "metadata": {},
   "outputs": [
    {
     "data": {
      "text/plain": [
       "RandomizedSearchCV(cv=5, estimator=RandomForestClassifier(), n_iter=50,\n",
       "                   param_distributions={'criterion': ['gini', 'entropy'],\n",
       "                                        'max_depth': array([2, 3, 4, 5, 6, 7, 8, 9]),\n",
       "                                        'min_samples_leaf': array([ 1,  2,  3,  4,  5,  6,  7,  8,  9, 10, 11, 12, 13, 14, 15, 16, 17,\n",
       "       18, 19]),\n",
       "                                        'min_samples_split': array([ 2,  3,  4,  5,  6,  7,  8,  9, 10, 11, 12, 13, 14, 15, 16, 17, 18,\n",
       "       19]),\n",
       "                                        'n_estimators': array([100, 101, 102, 103, 104...\n",
       "       113, 114, 115, 116, 117, 118, 119, 120, 121, 122, 123, 124, 125,\n",
       "       126, 127, 128, 129, 130, 131, 132, 133, 134, 135, 136, 137, 138,\n",
       "       139, 140, 141, 142, 143, 144, 145, 146, 147, 148, 149, 150, 151,\n",
       "       152, 153, 154, 155, 156, 157, 158, 159, 160, 161, 162, 163, 164,\n",
       "       165, 166, 167, 168, 169, 170, 171, 172, 173, 174, 175, 176, 177,\n",
       "       178, 179, 180, 181, 182, 183, 184, 185, 186, 187, 188, 189, 190,\n",
       "       191, 192, 193, 194, 195, 196, 197, 198, 199])})"
      ]
     },
     "execution_count": 60,
     "metadata": {},
     "output_type": "execute_result"
    }
   ],
   "source": [
    "rf2 = RandomForestClassifier()\n",
    "rscv = RandomizedSearchCV(rf2, hyperparameters, cv = 5, n_iter=50)\n",
    "rscv.fit(x_train, y_train)"
   ]
  },
  {
   "cell_type": "code",
   "execution_count": 61,
   "id": "a928526d",
   "metadata": {},
   "outputs": [
    {
     "data": {
      "text/plain": [
       "RandomForestClassifier(max_depth=9, min_samples_split=15, n_estimators=167)"
      ]
     },
     "execution_count": 61,
     "metadata": {},
     "output_type": "execute_result"
    }
   ],
   "source": [
    "rscv.best_estimator_"
   ]
  },
  {
   "cell_type": "code",
   "execution_count": 62,
   "id": "932cf48b",
   "metadata": {},
   "outputs": [
    {
     "data": {
      "text/plain": [
       "RandomForestClassifier(max_depth=9, min_samples_split=15, n_estimators=167)"
      ]
     },
     "execution_count": 62,
     "metadata": {},
     "output_type": "execute_result"
    }
   ],
   "source": [
    "rf_hypertune = rscv.best_estimator_\n",
    "rf_hypertune.fit(x_train,y_train)"
   ]
  },
  {
   "cell_type": "code",
   "execution_count": 63,
   "id": "1f049d49",
   "metadata": {},
   "outputs": [],
   "source": [
    "rf_hypertune_evaluation = Evaluation(rf_hypertune)"
   ]
  },
  {
   "cell_type": "markdown",
   "id": "581ce499",
   "metadata": {},
   "source": [
    "### Evaluation of Hypertuned RF Model"
   ]
  },
  {
   "cell_type": "code",
   "execution_count": 64,
   "id": "8ab528f0",
   "metadata": {},
   "outputs": [
    {
     "name": "stdout",
     "output_type": "stream",
     "text": [
      "accuracy score of training dataset : 0.8434617074242202\n",
      "\n",
      "              precision    recall  f1-score   support\n",
      "\n",
      "           0       0.79      0.94      0.86      3415\n",
      "           1       0.92      0.75      0.83      3414\n",
      "\n",
      "    accuracy                           0.84      6829\n",
      "   macro avg       0.86      0.84      0.84      6829\n",
      "weighted avg       0.86      0.84      0.84      6829\n",
      "\n"
     ]
    },
    {
     "data": {
      "image/png": "[encoded data removed]",
      "text/plain": [
       "<Figure size 432x288 with 2 Axes>"
      ]
     },
     "metadata": {
      "needs_background": "light"
     },
     "output_type": "display_data"
    }
   ],
   "source": [
    "rf_hypertune_evaluation.train(x_train, y_train)"
   ]
  },
  {
   "cell_type": "code",
   "execution_count": 65,
   "id": "74abf614",
   "metadata": {},
   "outputs": [
    {
     "name": "stdout",
     "output_type": "stream",
     "text": [
      "accuracy score of testing dataset : 0.8269653052261748\n",
      "\n",
      "              precision    recall  f1-score   support\n",
      "\n",
      "           0       0.77      0.93      0.84      1138\n",
      "           1       0.91      0.72      0.81      1139\n",
      "\n",
      "    accuracy                           0.83      2277\n",
      "   macro avg       0.84      0.83      0.83      2277\n",
      "weighted avg       0.84      0.83      0.83      2277\n",
      "\n"
     ]
    },
    {
     "data": {
      "image/png": "[encoded data removed]",
      "text/plain": [
       "<Figure size 432x288 with 2 Axes>"
      ]
     },
     "metadata": {
      "needs_background": "light"
     },
     "output_type": "display_data"
    }
   ],
   "source": [
    "rf_hypertune_evaluation.test(x_test, y_test)"
   ]
  },
  {
   "cell_type": "raw",
   "id": "46b0261e",
   "metadata": {},
   "source": [
    "After Hyperparameter tuning overfitting issue is overcomed but, accuracy is not that much good yet.\n",
    "We will try Deep Learning Model"
   ]
  },
  {
   "cell_type": "code",
   "execution_count": null,
   "id": "0fcda8f5",
   "metadata": {},
   "outputs": [],
   "source": []
  },
  {
   "cell_type": "markdown",
   "id": "19073834",
   "metadata": {},
   "source": [
    "# Gradient Boosting"
   ]
  },
  {
   "cell_type": "code",
   "execution_count": 66,
   "id": "ab3eedd8",
   "metadata": {},
   "outputs": [
    {
     "data": {
      "text/plain": [
       "GradientBoostingClassifier()"
      ]
     },
     "execution_count": 66,
     "metadata": {},
     "output_type": "execute_result"
    }
   ],
   "source": [
    "gb = GradientBoostingClassifier()\n",
    "gb.fit(x_train, y_train)"
   ]
  },
  {
   "cell_type": "code",
   "execution_count": 67,
   "id": "b014c66a",
   "metadata": {},
   "outputs": [],
   "source": [
    "gb_evaluation = Evaluation(gb)"
   ]
  },
  {
   "cell_type": "markdown",
   "id": "944d80bb",
   "metadata": {},
   "source": [
    "### Evaluation of Gradient Boosting Model for train data"
   ]
  },
  {
   "cell_type": "code",
   "execution_count": 68,
   "id": "cd13f818",
   "metadata": {},
   "outputs": [
    {
     "name": "stdout",
     "output_type": "stream",
     "text": [
      "accuracy score of training dataset : 0.821935861765998\n",
      "\n",
      "              precision    recall  f1-score   support\n",
      "\n",
      "           0       0.77      0.91      0.84      3415\n",
      "           1       0.89      0.74      0.81      3414\n",
      "\n",
      "    accuracy                           0.82      6829\n",
      "   macro avg       0.83      0.82      0.82      6829\n",
      "weighted avg       0.83      0.82      0.82      6829\n",
      "\n"
     ]
    },
    {
     "data": {
      "image/png": "[encoded data removed]",
      "text/plain": [
       "<Figure size 432x288 with 2 Axes>"
      ]
     },
     "metadata": {
      "needs_background": "light"
     },
     "output_type": "display_data"
    }
   ],
   "source": [
    "gb_evaluation.train(x_train, y_train)"
   ]
  },
  {
   "cell_type": "markdown",
   "id": "65879e52",
   "metadata": {},
   "source": [
    "### Evaluation of Gradient Boosting Model for test data"
   ]
  },
  {
   "cell_type": "code",
   "execution_count": 69,
   "id": "251f4b2a",
   "metadata": {},
   "outputs": [
    {
     "name": "stdout",
     "output_type": "stream",
     "text": [
      "accuracy score of testing dataset : 0.8014931927975406\n",
      "\n",
      "              precision    recall  f1-score   support\n",
      "\n",
      "           0       0.75      0.91      0.82      1138\n",
      "           1       0.88      0.70      0.78      1139\n",
      "\n",
      "    accuracy                           0.80      2277\n",
      "   macro avg       0.82      0.80      0.80      2277\n",
      "weighted avg       0.82      0.80      0.80      2277\n",
      "\n"
     ]
    },
    {
     "data": {
      "image/png": "[encoded data removed]",
      "text/plain": [
       "<Figure size 432x288 with 2 Axes>"
      ]
     },
     "metadata": {
      "needs_background": "light"
     },
     "output_type": "display_data"
    }
   ],
   "source": [
    "gb_evaluation.test(x_test, y_test)"
   ]
  },
  {
   "cell_type": "code",
   "execution_count": null,
   "id": "705d99f2",
   "metadata": {},
   "outputs": [],
   "source": []
  },
  {
   "cell_type": "markdown",
   "id": "c9fd67f1",
   "metadata": {},
   "source": [
    "# XGBoost"
   ]
  },
  {
   "cell_type": "code",
   "execution_count": 70,
   "id": "bef4fb6a",
   "metadata": {},
   "outputs": [
    {
     "name": "stdout",
     "output_type": "stream",
     "text": [
      "[19:49:21] WARNING: C:/Users/Administrator/workspace/xgboost-win64_release_1.5.1/src/learner.cc:1115: Starting in XGBoost 1.3.0, the default evaluation metric used with the objective 'binary:logistic' was changed from 'error' to 'logloss'. Explicitly set eval_metric if you'd like to restore the old behavior.\n"
     ]
    },
    {
     "data": {
      "text/plain": [
       "XGBClassifier(base_score=0.5, booster='gbtree', colsample_bylevel=1,\n",
       "              colsample_bynode=1, colsample_bytree=1, enable_categorical=False,\n",
       "              gamma=0, gpu_id=-1, importance_type=None,\n",
       "              interaction_constraints='', learning_rate=0.300000012,\n",
       "              max_delta_step=0, max_depth=6, min_child_weight=1, missing=nan,\n",
       "              monotone_constraints='()', n_estimators=100, n_jobs=4,\n",
       "              num_parallel_tree=1, predictor='auto', random_state=0,\n",
       "              reg_alpha=0, reg_lambda=1, scale_pos_weight=1, subsample=1,\n",
       "              tree_method='exact', validate_parameters=1, verbosity=None)"
      ]
     },
     "execution_count": 70,
     "metadata": {},
     "output_type": "execute_result"
    }
   ],
   "source": [
    "xgb = XGBClassifier()\n",
    "xgb.fit(x_train, y_train)"
   ]
  },
  {
   "cell_type": "code",
   "execution_count": 71,
   "id": "c86a66de",
   "metadata": {},
   "outputs": [],
   "source": [
    "xgb_evaluation = Evaluation(xgb)"
   ]
  },
  {
   "cell_type": "markdown",
   "id": "de8d9b14",
   "metadata": {},
   "source": [
    "### Evaluation of XGBoost Model for train data"
   ]
  },
  {
   "cell_type": "code",
   "execution_count": 72,
   "id": "2ecc70be",
   "metadata": {},
   "outputs": [
    {
     "name": "stdout",
     "output_type": "stream",
     "text": [
      "accuracy score of training dataset : 0.879923854151413\n",
      "\n",
      "              precision    recall  f1-score   support\n",
      "\n",
      "           0       0.84      0.93      0.89      3415\n",
      "           1       0.93      0.83      0.87      3414\n",
      "\n",
      "    accuracy                           0.88      6829\n",
      "   macro avg       0.88      0.88      0.88      6829\n",
      "weighted avg       0.88      0.88      0.88      6829\n",
      "\n"
     ]
    },
    {
     "data": {
      "image/png": "[encoded data removed]",
      "text/plain": [
       "<Figure size 432x288 with 2 Axes>"
      ]
     },
     "metadata": {
      "needs_background": "light"
     },
     "output_type": "display_data"
    }
   ],
   "source": [
    "xgb_evaluation.train(x_train, y_train)"
   ]
  },
  {
   "cell_type": "markdown",
   "id": "0970b82a",
   "metadata": {},
   "source": [
    "### Evaluation of XGBoost Model for test data"
   ]
  },
  {
   "cell_type": "code",
   "execution_count": 73,
   "id": "2578b155",
   "metadata": {},
   "outputs": [
    {
     "name": "stdout",
     "output_type": "stream",
     "text": [
      "accuracy score of testing dataset : 0.836627140974967\n",
      "\n",
      "              precision    recall  f1-score   support\n",
      "\n",
      "           0       0.80      0.90      0.85      1138\n",
      "           1       0.88      0.78      0.83      1139\n",
      "\n",
      "    accuracy                           0.84      2277\n",
      "   macro avg       0.84      0.84      0.84      2277\n",
      "weighted avg       0.84      0.84      0.84      2277\n",
      "\n"
     ]
    },
    {
     "data": {
      "image/png": "[encoded data removed]",
      "text/plain": [
       "<Figure size 432x288 with 2 Axes>"
      ]
     },
     "metadata": {
      "needs_background": "light"
     },
     "output_type": "display_data"
    }
   ],
   "source": [
    "xgb_evaluation.test(x_test, y_test)"
   ]
  },
  {
   "cell_type": "code",
   "execution_count": null,
   "id": "f7da5528",
   "metadata": {},
   "outputs": [],
   "source": []
  },
  {
   "cell_type": "raw",
   "id": "9f1bf57f",
   "metadata": {},
   "source": [
    "From above models\n",
    "• Random Forest model and XGBoost model gives good results.\n",
    "• We want recall as high for class = 1, because we don't want that employee which is going to leave company but model predicted it as he/she will not leave company\n",
    "• In other words, False Negative should be minimum or recall should be high\n",
    "• rf model gives 0.84 recall for class 1 on test data\n",
    "• XGB model gives 0.79 recall for class 1 on test data.\n",
    "• So the rf model is much better for us."
   ]
  },
  {
   "cell_type": "markdown",
   "id": "dc4d843a",
   "metadata": {},
   "source": [
    "## Pickling model file for deployement"
   ]
  },
  {
   "cell_type": "code",
   "execution_count": 74,
   "id": "2c3e56de",
   "metadata": {},
   "outputs": [],
   "source": [
    "pickle.dump(rf, open('rf_model.pkl', 'wb'))"
   ]
  },
  {
   "cell_type": "code",
   "execution_count": null,
   "id": "582a1dc8",
   "metadata": {},
   "outputs": [],
   "source": []
  }
 ],
 "metadata": {
  "kernelspec": {
   "display_name": "Python 3 (ipykernel)",
   "language": "python",
   "name": "python3"
  },
  "language_info": {
   "codemirror_mode": {
    "name": "ipython",
    "version": 3
   },
   "file_extension": ".py",
   "mimetype": "text/x-python",
   "name": "python",
   "nbconvert_exporter": "python",
   "pygments_lexer": "ipython3",
   "version": "3.8.10"
  }
 },
 "nbformat": 4,
 "nbformat_minor": 5
}
